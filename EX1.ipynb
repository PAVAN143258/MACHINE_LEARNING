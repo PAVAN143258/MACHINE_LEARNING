{
  "nbformat": 4,
  "nbformat_minor": 0,
  "metadata": {
    "colab": {
      "name": "EX1.ipynb",
      "provenance": [],
      "collapsed_sections": []
    },
    "kernelspec": {
      "name": "python3",
      "display_name": "Python 3"
    },
    "language_info": {
      "name": "python"
    }
  },
  "cells": [
    {
      "cell_type": "code",
      "execution_count": null,
      "metadata": {
        "id": "lJsA4TcgS2tU"
      },
      "outputs": [],
      "source": [
        "import pandas as pd\n",
        "import numpy as np\n",
        "from sklearn.model_selection import train_test_split\n",
        "from sklearn.metrics import accuracy_score\n",
        "import matplotlib.pyplot as plt\n",
        "%matplotlib inline\n",
        "import seaborn as sns"
      ]
    },
    {
      "cell_type": "code",
      "source": [
        "from google.colab import drive\n",
        "drive.mount('/content/drive')"
      ],
      "metadata": {
        "colab": {
          "base_uri": "https://localhost:8080/"
        },
        "id": "IT4hz83zqrin",
        "outputId": "44f29a62-e44b-4c21-e621-5900a2c1833a"
      },
      "execution_count": null,
      "outputs": [
        {
          "output_type": "stream",
          "name": "stdout",
          "text": [
            "Mounted at /content/drive\n"
          ]
        }
      ]
    },
    {
      "cell_type": "code",
      "source": [
        "dataset = pd.read_csv('/content/drive/MyDrive/ML/ex1.csv')\n",
        "dataset.head()"
      ],
      "metadata": {
        "id": "WrE2YRDSS7KD",
        "colab": {
          "base_uri": "https://localhost:8080/",
          "height": 206
        },
        "outputId": "f230cd31-a0b9-416a-a64a-69b31f3dbbca"
      },
      "execution_count": null,
      "outputs": [
        {
          "output_type": "execute_result",
          "data": {
            "text/plain": [
              "    Area  Perimeter  Compactness  Kernel.Length  Kernel.Width  \\\n",
              "0  15.26      14.84       0.8710          5.763         3.312   \n",
              "1  14.88      14.57       0.8811          5.554         3.333   \n",
              "2  14.29      14.09       0.9050          5.291         3.337   \n",
              "3  13.84      13.94       0.8955          5.324         3.379   \n",
              "4  16.14      14.99       0.9034          5.658         3.562   \n",
              "\n",
              "   Asymmetry.Coeff  Kernel.Groove  Type  \n",
              "0            2.221          5.220     1  \n",
              "1            1.018          4.956     1  \n",
              "2            2.699          4.825     1  \n",
              "3            2.259          4.805     1  \n",
              "4            1.355          5.175     1  "
            ],
            "text/html": [
              "\n",
              "  <div id=\"df-510586d2-447f-4e54-b576-2c0a91f84b2b\">\n",
              "    <div class=\"colab-df-container\">\n",
              "      <div>\n",
              "<style scoped>\n",
              "    .dataframe tbody tr th:only-of-type {\n",
              "        vertical-align: middle;\n",
              "    }\n",
              "\n",
              "    .dataframe tbody tr th {\n",
              "        vertical-align: top;\n",
              "    }\n",
              "\n",
              "    .dataframe thead th {\n",
              "        text-align: right;\n",
              "    }\n",
              "</style>\n",
              "<table border=\"1\" class=\"dataframe\">\n",
              "  <thead>\n",
              "    <tr style=\"text-align: right;\">\n",
              "      <th></th>\n",
              "      <th>Area</th>\n",
              "      <th>Perimeter</th>\n",
              "      <th>Compactness</th>\n",
              "      <th>Kernel.Length</th>\n",
              "      <th>Kernel.Width</th>\n",
              "      <th>Asymmetry.Coeff</th>\n",
              "      <th>Kernel.Groove</th>\n",
              "      <th>Type</th>\n",
              "    </tr>\n",
              "  </thead>\n",
              "  <tbody>\n",
              "    <tr>\n",
              "      <th>0</th>\n",
              "      <td>15.26</td>\n",
              "      <td>14.84</td>\n",
              "      <td>0.8710</td>\n",
              "      <td>5.763</td>\n",
              "      <td>3.312</td>\n",
              "      <td>2.221</td>\n",
              "      <td>5.220</td>\n",
              "      <td>1</td>\n",
              "    </tr>\n",
              "    <tr>\n",
              "      <th>1</th>\n",
              "      <td>14.88</td>\n",
              "      <td>14.57</td>\n",
              "      <td>0.8811</td>\n",
              "      <td>5.554</td>\n",
              "      <td>3.333</td>\n",
              "      <td>1.018</td>\n",
              "      <td>4.956</td>\n",
              "      <td>1</td>\n",
              "    </tr>\n",
              "    <tr>\n",
              "      <th>2</th>\n",
              "      <td>14.29</td>\n",
              "      <td>14.09</td>\n",
              "      <td>0.9050</td>\n",
              "      <td>5.291</td>\n",
              "      <td>3.337</td>\n",
              "      <td>2.699</td>\n",
              "      <td>4.825</td>\n",
              "      <td>1</td>\n",
              "    </tr>\n",
              "    <tr>\n",
              "      <th>3</th>\n",
              "      <td>13.84</td>\n",
              "      <td>13.94</td>\n",
              "      <td>0.8955</td>\n",
              "      <td>5.324</td>\n",
              "      <td>3.379</td>\n",
              "      <td>2.259</td>\n",
              "      <td>4.805</td>\n",
              "      <td>1</td>\n",
              "    </tr>\n",
              "    <tr>\n",
              "      <th>4</th>\n",
              "      <td>16.14</td>\n",
              "      <td>14.99</td>\n",
              "      <td>0.9034</td>\n",
              "      <td>5.658</td>\n",
              "      <td>3.562</td>\n",
              "      <td>1.355</td>\n",
              "      <td>5.175</td>\n",
              "      <td>1</td>\n",
              "    </tr>\n",
              "  </tbody>\n",
              "</table>\n",
              "</div>\n",
              "      <button class=\"colab-df-convert\" onclick=\"convertToInteractive('df-510586d2-447f-4e54-b576-2c0a91f84b2b')\"\n",
              "              title=\"Convert this dataframe to an interactive table.\"\n",
              "              style=\"display:none;\">\n",
              "        \n",
              "  <svg xmlns=\"http://www.w3.org/2000/svg\" height=\"24px\"viewBox=\"0 0 24 24\"\n",
              "       width=\"24px\">\n",
              "    <path d=\"M0 0h24v24H0V0z\" fill=\"none\"/>\n",
              "    <path d=\"M18.56 5.44l.94 2.06.94-2.06 2.06-.94-2.06-.94-.94-2.06-.94 2.06-2.06.94zm-11 1L8.5 8.5l.94-2.06 2.06-.94-2.06-.94L8.5 2.5l-.94 2.06-2.06.94zm10 10l.94 2.06.94-2.06 2.06-.94-2.06-.94-.94-2.06-.94 2.06-2.06.94z\"/><path d=\"M17.41 7.96l-1.37-1.37c-.4-.4-.92-.59-1.43-.59-.52 0-1.04.2-1.43.59L10.3 9.45l-7.72 7.72c-.78.78-.78 2.05 0 2.83L4 21.41c.39.39.9.59 1.41.59.51 0 1.02-.2 1.41-.59l7.78-7.78 2.81-2.81c.8-.78.8-2.07 0-2.86zM5.41 20L4 18.59l7.72-7.72 1.47 1.35L5.41 20z\"/>\n",
              "  </svg>\n",
              "      </button>\n",
              "      \n",
              "  <style>\n",
              "    .colab-df-container {\n",
              "      display:flex;\n",
              "      flex-wrap:wrap;\n",
              "      gap: 12px;\n",
              "    }\n",
              "\n",
              "    .colab-df-convert {\n",
              "      background-color: #E8F0FE;\n",
              "      border: none;\n",
              "      border-radius: 50%;\n",
              "      cursor: pointer;\n",
              "      display: none;\n",
              "      fill: #1967D2;\n",
              "      height: 32px;\n",
              "      padding: 0 0 0 0;\n",
              "      width: 32px;\n",
              "    }\n",
              "\n",
              "    .colab-df-convert:hover {\n",
              "      background-color: #E2EBFA;\n",
              "      box-shadow: 0px 1px 2px rgba(60, 64, 67, 0.3), 0px 1px 3px 1px rgba(60, 64, 67, 0.15);\n",
              "      fill: #174EA6;\n",
              "    }\n",
              "\n",
              "    [theme=dark] .colab-df-convert {\n",
              "      background-color: #3B4455;\n",
              "      fill: #D2E3FC;\n",
              "    }\n",
              "\n",
              "    [theme=dark] .colab-df-convert:hover {\n",
              "      background-color: #434B5C;\n",
              "      box-shadow: 0px 1px 3px 1px rgba(0, 0, 0, 0.15);\n",
              "      filter: drop-shadow(0px 1px 2px rgba(0, 0, 0, 0.3));\n",
              "      fill: #FFFFFF;\n",
              "    }\n",
              "  </style>\n",
              "\n",
              "      <script>\n",
              "        const buttonEl =\n",
              "          document.querySelector('#df-510586d2-447f-4e54-b576-2c0a91f84b2b button.colab-df-convert');\n",
              "        buttonEl.style.display =\n",
              "          google.colab.kernel.accessAllowed ? 'block' : 'none';\n",
              "\n",
              "        async function convertToInteractive(key) {\n",
              "          const element = document.querySelector('#df-510586d2-447f-4e54-b576-2c0a91f84b2b');\n",
              "          const dataTable =\n",
              "            await google.colab.kernel.invokeFunction('convertToInteractive',\n",
              "                                                     [key], {});\n",
              "          if (!dataTable) return;\n",
              "\n",
              "          const docLinkHtml = 'Like what you see? Visit the ' +\n",
              "            '<a target=\"_blank\" href=https://colab.research.google.com/notebooks/data_table.ipynb>data table notebook</a>'\n",
              "            + ' to learn more about interactive tables.';\n",
              "          element.innerHTML = '';\n",
              "          dataTable['output_type'] = 'display_data';\n",
              "          await google.colab.output.renderOutput(dataTable, element);\n",
              "          const docLink = document.createElement('div');\n",
              "          docLink.innerHTML = docLinkHtml;\n",
              "          element.appendChild(docLink);\n",
              "        }\n",
              "      </script>\n",
              "    </div>\n",
              "  </div>\n",
              "  "
            ]
          },
          "metadata": {},
          "execution_count": 3
        }
      ]
    },
    {
      "cell_type": "code",
      "source": [
        "x_train , x_test , y_train , y_test = train_test_split(np.array(dataset)[:,:7], np.array(dataset)[:,7], random_state=50, test_size = 0.25)"
      ],
      "metadata": {
        "id": "KCBwyoU3TZ_7"
      },
      "execution_count": null,
      "outputs": []
    },
    {
      "cell_type": "markdown",
      "source": [
        "![1_q8Rw-I-jT3gNdC6Tcrb8Vg.png](data:image/png;base64,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)"
      ],
      "metadata": {
        "id": "9FCQhDe8mMKK"
      }
    },
    {
      "cell_type": "code",
      "source": [
        "y_train[0]"
      ],
      "metadata": {
        "colab": {
          "base_uri": "https://localhost:8080/"
        },
        "id": "SwCVa-_M8Vcg",
        "outputId": "3c8ab85a-c467-4da7-c521-4f617c7898c2"
      },
      "execution_count": null,
      "outputs": [
        {
          "output_type": "execute_result",
          "data": {
            "text/plain": [
              "2.0"
            ]
          },
          "metadata": {},
          "execution_count": 5
        }
      ]
    },
    {
      "cell_type": "code",
      "source": [
        "import tensorflow as tf\n",
        "\n",
        "y_train = tf.keras.utils.to_categorical(y_train-1, num_classes=3)\n",
        "y_test = tf.keras.utils.to_categorical(y_test-1, num_classes=3)"
      ],
      "metadata": {
        "id": "vw62BFsv4dih"
      },
      "execution_count": null,
      "outputs": []
    },
    {
      "cell_type": "code",
      "source": [
        "y_train[0]"
      ],
      "metadata": {
        "colab": {
          "base_uri": "https://localhost:8080/"
        },
        "id": "Wcn4qMEn4etJ",
        "outputId": "c992358a-d76f-4386-be10-a5c4b7dd59e7"
      },
      "execution_count": null,
      "outputs": [
        {
          "output_type": "execute_result",
          "data": {
            "text/plain": [
              "array([0., 1., 0.], dtype=float32)"
            ]
          },
          "metadata": {},
          "execution_count": 7
        }
      ]
    },
    {
      "cell_type": "code",
      "source": [
        "from keras.models import Sequential\n",
        "from keras.layers import Dense\n",
        "\n",
        "# define the keras model\n",
        "model = Sequential()\n",
        "model.add(Dense(12,  input_dim=7, activation='relu'))\n",
        "model.add(Dense(8, activation='relu'))\n",
        "model.add(Dense(3, activation='softmax'))\n",
        "\n",
        "sgd = tf.keras.optimizers.SGD(lr=0.001, momentum=0.9, nesterov=True)\n",
        "\n",
        "#adam = keras.optimizers.Adam(learning_rate=0.01)\n",
        "\n",
        "# compile the keras model\n",
        "model.compile(loss='categorical_crossentropy', optimizer= sgd, metrics=['accuracy'])\n",
        "\n"
      ],
      "metadata": {
        "colab": {
          "base_uri": "https://localhost:8080/"
        },
        "id": "qriPHKRl0zg_",
        "outputId": "2ceff8f1-ad8c-41eb-85d1-e9b77a1a9874"
      },
      "execution_count": null,
      "outputs": [
        {
          "output_type": "stream",
          "name": "stderr",
          "text": [
            "/usr/local/lib/python3.7/dist-packages/keras/optimizer_v2/gradient_descent.py:102: UserWarning: The `lr` argument is deprecated, use `learning_rate` instead.\n",
            "  super(SGD, self).__init__(name, **kwargs)\n"
          ]
        }
      ]
    },
    {
      "cell_type": "code",
      "source": [
        "# fit the keras model on the dataset\n",
        "history = model.fit(x_train, y_train, epochs=10, batch_size=10)\n",
        "\n",
        "# evaluate the keras model\n",
        "_, accuracy = model.evaluate(x_test, y_test)\n",
        "print('Accuracy: %.2f' % (accuracy*100))"
      ],
      "metadata": {
        "colab": {
          "base_uri": "https://localhost:8080/"
        },
        "id": "zQW6e05l1pO1",
        "outputId": "3b9c3b0b-4156-421f-e55d-de0e67c27b76"
      },
      "execution_count": null,
      "outputs": [
        {
          "output_type": "stream",
          "name": "stdout",
          "text": [
            "Epoch 1/10\n",
            "15/15 [==============================] - 1s 2ms/step - loss: 1.8319 - accuracy: 0.2685\n",
            "Epoch 2/10\n",
            "15/15 [==============================] - 0s 2ms/step - loss: 1.0969 - accuracy: 0.3691\n",
            "Epoch 3/10\n",
            "15/15 [==============================] - 0s 2ms/step - loss: 1.0971 - accuracy: 0.3557\n",
            "Epoch 4/10\n",
            "15/15 [==============================] - 0s 2ms/step - loss: 1.0969 - accuracy: 0.3557\n",
            "Epoch 5/10\n",
            "15/15 [==============================] - 0s 2ms/step - loss: 1.0967 - accuracy: 0.3557\n",
            "Epoch 6/10\n",
            "15/15 [==============================] - 0s 2ms/step - loss: 1.0967 - accuracy: 0.3557\n",
            "Epoch 7/10\n",
            "15/15 [==============================] - 0s 2ms/step - loss: 1.0968 - accuracy: 0.3557\n",
            "Epoch 8/10\n",
            "15/15 [==============================] - 0s 2ms/step - loss: 1.0967 - accuracy: 0.3557\n",
            "Epoch 9/10\n",
            "15/15 [==============================] - 0s 2ms/step - loss: 1.0967 - accuracy: 0.3557\n",
            "Epoch 10/10\n",
            "15/15 [==============================] - 0s 2ms/step - loss: 1.0967 - accuracy: 0.3557\n",
            "2/2 [==============================] - 0s 6ms/step - loss: 1.1059 - accuracy: 0.3000\n",
            "Accuracy: 30.00\n"
          ]
        }
      ]
    },
    {
      "cell_type": "code",
      "source": [
        "from keras.models import Sequential\n",
        "from keras.layers import Dense\n",
        "initializer = tf.keras.initializers.RandomNormal(mean=0.0, stddev=0.05, seed=None)\n",
        "#layer = tf.keras.layers.Dense(3, kernel_initializer=initializer)\n",
        "\n",
        "# define the keras model\n",
        "model = Sequential()\n",
        "model.add(Dense(12, kernel_initializer=initializer, input_dim=7, activation='relu'))\n",
        "model.add(Dense(8,kernel_initializer=initializer, activation='relu'))\n",
        "model.add(Dense(3,kernel_initializer=initializer, activation='softmax'))\n",
        "\n",
        "sgd = tf.keras.optimizers.SGD(lr=0.001, momentum=0.9, nesterov=True)\n",
        "\n",
        "#adam = keras.optimizers.Adam(learning_rate=0.01)\n",
        "\n",
        "# compile the keras model\n",
        "model.compile(loss='categorical_crossentropy', optimizer= sgd, metrics=['accuracy'])\n",
        "\n",
        "# fit the keras model on the dataset\n",
        "history = model.fit(x_train, y_train, epochs=10, batch_size=10)\n",
        "\n",
        "# evaluate the keras model\n",
        "_, accuracy = model.evaluate(x_test, y_test)\n",
        "print('Accuracy: %.2f' % (accuracy*100))"
      ],
      "metadata": {
        "id": "kTotkgBdTbQK",
        "colab": {
          "base_uri": "https://localhost:8080/"
        },
        "outputId": "24b2bb56-306f-46ad-c6c8-8780466f5c95"
      },
      "execution_count": null,
      "outputs": [
        {
          "output_type": "stream",
          "name": "stdout",
          "text": [
            "Epoch 1/10\n"
          ]
        },
        {
          "output_type": "stream",
          "name": "stderr",
          "text": [
            "/usr/local/lib/python3.7/dist-packages/keras/optimizer_v2/gradient_descent.py:102: UserWarning: The `lr` argument is deprecated, use `learning_rate` instead.\n",
            "  super(SGD, self).__init__(name, **kwargs)\n"
          ]
        },
        {
          "output_type": "stream",
          "name": "stdout",
          "text": [
            "15/15 [==============================] - 0s 2ms/step - loss: 1.0992 - accuracy: 0.3423\n",
            "Epoch 2/10\n",
            "15/15 [==============================] - 0s 2ms/step - loss: 1.0987 - accuracy: 0.3423\n",
            "Epoch 3/10\n",
            "15/15 [==============================] - 0s 2ms/step - loss: 1.0976 - accuracy: 0.2215\n",
            "Epoch 4/10\n",
            "15/15 [==============================] - 0s 3ms/step - loss: 1.0970 - accuracy: 0.3289\n",
            "Epoch 5/10\n",
            "15/15 [==============================] - 0s 3ms/step - loss: 1.0965 - accuracy: 0.3020\n",
            "Epoch 6/10\n",
            "15/15 [==============================] - 0s 5ms/step - loss: 1.0960 - accuracy: 0.2148\n",
            "Epoch 7/10\n",
            "15/15 [==============================] - 0s 3ms/step - loss: 1.0957 - accuracy: 0.3557\n",
            "Epoch 8/10\n",
            "15/15 [==============================] - 0s 3ms/step - loss: 1.0953 - accuracy: 0.3557\n",
            "Epoch 9/10\n",
            "15/15 [==============================] - 0s 3ms/step - loss: 1.0948 - accuracy: 0.3557\n",
            "Epoch 10/10\n",
            "15/15 [==============================] - 0s 3ms/step - loss: 1.0945 - accuracy: 0.3557\n",
            "2/2 [==============================] - 0s 5ms/step - loss: 1.1026 - accuracy: 0.3000\n",
            "Accuracy: 30.00\n"
          ]
        }
      ]
    },
    {
      "cell_type": "code",
      "source": [
        "#print(x_test[0], y_test[0])\n",
        "np.array(x_test[0]).reshape(7,1)"
      ],
      "metadata": {
        "colab": {
          "base_uri": "https://localhost:8080/"
        },
        "id": "0MFgt3Ki3nXq",
        "outputId": "5e3e9906-670f-4688-e713-143336128065"
      },
      "execution_count": null,
      "outputs": [
        {
          "output_type": "execute_result",
          "data": {
            "text/plain": [
              "array([[12.3   ],\n",
              "       [13.34  ],\n",
              "       [ 0.8684],\n",
              "       [ 5.243 ],\n",
              "       [ 2.974 ],\n",
              "       [ 5.637 ],\n",
              "       [ 5.063 ]])"
            ]
          },
          "metadata": {},
          "execution_count": 10
        }
      ]
    },
    {
      "cell_type": "code",
      "source": [
        "# make probability predictions with the model\n",
        "predictions = model.predict(x_test)\n"
      ],
      "metadata": {
        "id": "XsHncxYeTzL8"
      },
      "execution_count": null,
      "outputs": []
    },
    {
      "cell_type": "code",
      "source": [
        "y_test[0],predictions[0]"
      ],
      "metadata": {
        "colab": {
          "base_uri": "https://localhost:8080/"
        },
        "id": "EDYvGuvX8NZq",
        "outputId": "0bde2095-c7ea-4b65-9b38-19f687602e70"
      },
      "execution_count": null,
      "outputs": [
        {
          "output_type": "execute_result",
          "data": {
            "text/plain": [
              "(array([0., 0., 1.], dtype=float32),\n",
              " array([0.33962408, 0.34511134, 0.3152646 ], dtype=float32))"
            ]
          },
          "metadata": {},
          "execution_count": 13
        }
      ]
    },
    {
      "cell_type": "code",
      "source": [
        "# round predictions \n",
        "rounded = [round(x[0]) for x in predictions]\n",
        "\n",
        "...\n",
        "# make class predictions with the model\n",
        "predictions = (model.predict(x_test) > 0.5).astype(int)"
      ],
      "metadata": {
        "id": "Yd9z9HO56Ixh"
      },
      "execution_count": null,
      "outputs": []
    }
  ]
}